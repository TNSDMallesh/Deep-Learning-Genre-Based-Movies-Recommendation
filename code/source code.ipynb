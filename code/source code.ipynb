{
  "cells": [
    {
      "cell_type": "code",
      "execution_count": null,
      "metadata": {
        "id": "YkONfaV_RGJP"
      },
      "outputs": [
        {
          "ename": "",
          "evalue": "",
          "output_type": "error",
          "traceback": [
            "\u001b[1;31mRunning cells with 'Python 3.10.0' requires the ipykernel package.\n",
            "\u001b[1;31m<a href='command:jupyter.createPythonEnvAndSelectController'>Create a Python Environment</a> with the required packages.\n",
            "\u001b[1;31mOr install 'ipykernel' using the command: 'c:/Users/nanit/AppData/Local/Programs/Python/Python310/python.exe -m pip install ipykernel -U --user --force-reinstall'"
          ]
        }
      ],
      "source": [
        "import tensorflow as tf\n",
        "from tensorflow.keras.models import Sequential\n",
        "from tensorflow.keras import layers, models\n",
        "from tensorflow.keras.layers import Dense, Flatten, Dropout\n",
        "from tensorflow.keras.layers import Conv2D, MaxPooling2D\n",
        "from tensorflow.keras.applications import VGG16\n",
        "from tensorflow.keras.preprocessing.image import ImageDataGenerator\n",
        "from google.colab import drive\n",
        "import os\n",
        "import matplotlib.pyplot as plt\n",
        "import random"
      ]
    },
    {
      "cell_type": "code",
      "execution_count": null,
      "metadata": {
        "id": "lhJZthW3ASw1"
      },
      "outputs": [],
      "source": [
        "drive.mount('/content/movies project/genre')"
      ]
    },
    {
      "cell_type": "code",
      "execution_count": null,
      "metadata": {
        "id": "8_nRC0-nAWy9"
      },
      "outputs": [],
      "source": [
        "train_dir = 'drive/MyDrive/movies project/genre/Train'\n",
        "validation_dir = 'drive/MyDrive/movies project/genre/Test'"
      ]
    },
    {
      "cell_type": "code",
      "execution_count": null,
      "metadata": {
        "id": "5qX_xuyy_P4k"
      },
      "outputs": [],
      "source": [
        "train_datagen = ImageDataGenerator(rescale=1.0/255)\n",
        "validation_datagen = ImageDataGenerator(rescale=1.0/255)"
      ]
    },
    {
      "cell_type": "code",
      "execution_count": null,
      "metadata": {
        "id": "jjpkhPAjUyP4"
      },
      "outputs": [],
      "source": [
        "train_generator = train_datagen.flow_from_directory(\n",
        "    train_dir,\n",
        "    target_size=(150, 150),\n",
        "    batch_size=8,\n",
        "    class_mode='categorical'\n",
        ")"
      ]
    },
    {
      "cell_type": "code",
      "execution_count": null,
      "metadata": {
        "id": "GXKsDOWv_Xyx"
      },
      "outputs": [],
      "source": [
        "validation_generator = validation_datagen.flow_from_directory(\n",
        "    validation_dir,\n",
        "    target_size=(150, 150),\n",
        "    batch_size=8,\n",
        "    class_mode='categorical'\n",
        ")"
      ]
    },
    {
      "cell_type": "code",
      "execution_count": null,
      "metadata": {
        "id": "ci82Axb4OveE"
      },
      "outputs": [],
      "source": [
        "model = Sequential([\n",
        "    Conv2D(32, (3, 3), activation='relu', input_shape=(150, 150, 3)),\n",
        "    MaxPooling2D(pool_size=(2, 2)),\n",
        "    Conv2D(64, (3, 3), activation='relu'),\n",
        "    MaxPooling2D(pool_size=(2, 2)),\n",
        "    Conv2D(128, (3, 3), activation='relu'),\n",
        "    MaxPooling2D(pool_size=(2, 2)),\n",
        "    Flatten(),\n",
        "    Dense(512, activation='relu'),\n",
        "    Dropout(0.5),\n",
        "    Dense(train_generator.num_classes, activation='softmax')\n",
        "])"
      ]
    },
    {
      "cell_type": "code",
      "execution_count": null,
      "metadata": {
        "id": "MAmgiOAV52H9"
      },
      "outputs": [],
      "source": [
        "model.compile(optimizer='adam',\n",
        "              loss='categorical_crossentropy',\n",
        "              metrics=['accuracy'])"
      ]
    },
    {
      "cell_type": "code",
      "execution_count": null,
      "metadata": {
        "id": "TvBfJbAV_vs8"
      },
      "outputs": [],
      "source": [
        "history = model.fit(\n",
        " train_generator,\n",
        " steps_per_epoch=100,\n",
        " epochs=10,\n",
        " validation_data=validation_generator,\n",
        " validation_steps=50\n",
        " )"
      ]
    },
    {
      "cell_type": "code",
      "execution_count": null,
      "metadata": {
        "id": "Xb-mU7IaKcDJ"
      },
      "outputs": [],
      "source": [
        "def display_images_from_genre(genre_dir, num_images):\n",
        "    all_images = [os.path.join(genre_dir, img)\n",
        "                 for img in os.listdir(genre_dir)\n",
        "                 if img.endswith(('png', 'jpg', 'jpeg'))]\n",
        "    if len(all_images) == 0:\n",
        "        print(f\"No images found in the directory: {genre_dir}\")\n",
        "        return\n",
        "    selected_images = random.sample(all_images,min(num_images, len(all_images)))\n",
        "    plt.figure(figsize=(15, 5))\n",
        "\n",
        "    for i, img_path in enumerate(selected_images):\n",
        "        img = plt.imread(img_path)\n",
        "        plt.subplot(1, num_images, i + 1)\n",
        "        plt.imshow(img)\n",
        "        plt.axis('off')\n",
        "        txt=os.path.basename(img_path).replace('.jpg','')\n",
        "        plt.title(txt)\n",
        "    plt.show()#(e.g., Action, Comedy, Horror, Thriller, Romance, Sci-Fi, Fantasy, War):"
      ]
    },
    {
      "cell_type": "code",
      "execution_count": null,
      "metadata": {
        "id": "wkAa7BTqiQNR"
      },
      "outputs": [],
      "source": [
        "genre_list=\"(e.g.,Action,Comedy,Horror,Thriller,Romance,Sci-Fi,Fantasy,War)\"\n",
        "def main():\n",
        "    base_dir_test='drive/MyDrive/movies project/genre/Test'\n",
        "    base_dir_train='drive/MyDrive/movies project/genre/Train'\n",
        "    genre_input = input(F\"Enter the genre {genre_list.replace(',',' ,')}: \")\n",
        "    num_images=int(input('Enter the number of movies (10 Maximum) : '))\n",
        "    genre_input=genre_input.title()\n",
        "    genre_dir_test = os.path.join(base_dir_test, genre_input)\n",
        "    genre_dir_train = os.path.join(base_dir_train, genre_input)\n",
        "    if os.path.exists(genre_dir_test):\n",
        "        display_images_from_genre(genre_dir_test, num_images)\n",
        "    elif os.path.exists(genre_dir_train):\n",
        "        display_images_from_genre(genre_dir_train, num_images)\n",
        "    else:\n",
        "        print(f\"No such genre: {genre_input}. Please check the folder name.\")\n",
        "\n",
        "main()"
      ]
    }
  ],
  "metadata": {
    "accelerator": "GPU",
    "colab": {
      "gpuType": "T4",
      "private_outputs": true,
      "provenance": []
    },
    "kernelspec": {
      "display_name": "Python 3",
      "name": "python3"
    },
    "language_info": {
      "name": "python",
      "version": "3.10.0"
    }
  },
  "nbformat": 4,
  "nbformat_minor": 0
}
